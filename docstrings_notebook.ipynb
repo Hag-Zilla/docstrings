{
 "cells": [
  {
   "cell_type": "markdown",
   "id": "487d4769",
   "metadata": {
    "execution": {
     "iopub.execute_input": "2023-07-27T09:13:23.581322Z",
     "iopub.status.busy": "2023-07-27T09:13:23.580917Z",
     "iopub.status.idle": "2023-07-27T09:13:23.614847Z",
     "shell.execute_reply": "2023-07-27T09:13:23.613580Z",
     "shell.execute_reply.started": "2023-07-27T09:13:23.581289Z"
    },
    "papermill": {
     "duration": 0.004505,
     "end_time": "2023-07-27T10:19:04.599792",
     "exception": false,
     "start_time": "2023-07-27T10:19:04.595287",
     "status": "completed"
    },
    "tags": []
   },
   "source": [
    "# Docstring definition\n",
    "\n",
    "No offense to fans of misguided translations, docstrings are not documentation on ropes but an unassigned string of characters. Just after the explicit naming of variables, and in all humility, the use of s docstrings is an essential rule of the art for a clear and collaborative code.\n",
    "\n",
    "## Where can I find docstrings?\n",
    "\n",
    "The docstring can be placed primarily in two separate locations:\n",
    "* at a specific point in the code to describe it\n",
    "* in a function or class to provide information on its functioning\n",
    "\n",
    "## Here is a trivial example of Docstrings:"
   ]
  },
  {
   "cell_type": "code",
   "execution_count": 1,
   "id": "265f1ee7",
   "metadata": {
    "execution": {
     "iopub.execute_input": "2023-07-27T10:19:04.609902Z",
     "iopub.status.busy": "2023-07-27T10:19:04.609299Z",
     "iopub.status.idle": "2023-07-27T10:19:04.621992Z",
     "shell.execute_reply": "2023-07-27T10:19:04.620635Z"
    },
    "papermill": {
     "duration": 0.021387,
     "end_time": "2023-07-27T10:19:04.624962",
     "exception": false,
     "start_time": "2023-07-27T10:19:04.603575",
     "status": "completed"
    },
    "tags": []
   },
   "outputs": [],
   "source": [
    "def divide(a, b):\n",
    "    \"\"\"\n",
    "        Divide two numbers and return the result.\n",
    "    \"\"\"\n",
    "    return a / b"
   ]
  },
  {
   "cell_type": "markdown",
   "id": "ed632366",
   "metadata": {
    "papermill": {
     "duration": 0.003338,
     "end_time": "2023-07-27T10:19:04.632823",
     "exception": false,
     "start_time": "2023-07-27T10:19:04.629485",
     "status": "completed"
    },
    "tags": []
   },
   "source": [
    "        **N.B.: The character string s must be placed just below the signature of the function.\n",
    "\n",
    "## What are the other benefits of docstrings?\n",
    "\n",
    "Apart from the readability aspect of its code which is just essential, the docstrings will bring other rather appreciable advantages:\n",
    "* It is a standard that allows developers to navigate from one code to another.\n",
    "* Programming tools such as IDEs display this documentation during input phases.\n",
    "* In the Shell, it is possible to use the help() function to display the documentation.\n",
    "* It is possible to do automatic generation of documentation from Docstrings.\n",
    "\n",
    "You can also document a class and its methods:"
   ]
  },
  {
   "cell_type": "code",
   "execution_count": 2,
   "id": "29899971",
   "metadata": {
    "execution": {
     "iopub.execute_input": "2023-07-27T10:19:04.645153Z",
     "iopub.status.busy": "2023-07-27T10:19:04.644709Z",
     "iopub.status.idle": "2023-07-27T10:19:04.652329Z",
     "shell.execute_reply": "2023-07-27T10:19:04.650448Z"
    },
    "papermill": {
     "duration": 0.01755,
     "end_time": "2023-07-27T10:19:04.655876",
     "exception": false,
     "start_time": "2023-07-27T10:19:04.638326",
     "status": "completed"
    },
    "tags": []
   },
   "outputs": [],
   "source": [
    "class GuardianOfTheGalaxy(object):\n",
    "    \"\"\"\n",
    "        This class create the Guardian Of The Galaxy universe\n",
    "    \"\"\"\n",
    " \n",
    "    def groot(self):\n",
    "        \"\"\"\n",
    "            Return Groot object ready for the adventure.\n",
    "        \"\"\"\n",
    "    def star_lord(self):\n",
    "        \"\"\"\n",
    "            Return Star Lord object ready for the adventure.\n",
    "        \"\"\""
   ]
  },
  {
   "cell_type": "markdown",
   "id": "4b2d5b01",
   "metadata": {
    "papermill": {
     "duration": 0.003398,
     "end_time": "2023-07-27T10:19:04.663362",
     "exception": false,
     "start_time": "2023-07-27T10:19:04.659964",
     "status": "completed"
    },
    "tags": []
   },
   "source": [
    "Most standard Python libraries have Docstrings allowing them to be documented. We let you check in your prompt with the following commands:\n",
    "\n",
    "> python -i\n",
    ">\n",
    "> import os\n",
    ">\n",
    "> help(os)\n",
    ">\n",
    "> import urllib\n",
    ">\n",
    "> help(urllib)\n",
    "\n",
    "## Standards\n",
    "\n",
    "As early as [PEP 8](https://peps.python.org/pep-0008/), Python developers issued guidelines that are comprehensively detailed in  PEP 257. It describes how  to write Docstrings correctly. Here is a very condensed summary of the contents:\n",
    "* Typically, Docstrings should be written for modules, functions, classes, and methods.\n",
    "* We always start and end with triple quotation marks.\n",
    "* When the description is short and compact, as in some simple functions or methods, one-line Docstrings must be used:\n",
    "\n"
   ]
  },
  {
   "cell_type": "code",
   "execution_count": 3,
   "id": "9e50601d",
   "metadata": {
    "execution": {
     "iopub.execute_input": "2023-07-27T10:19:04.674025Z",
     "iopub.status.busy": "2023-07-27T10:19:04.672518Z",
     "iopub.status.idle": "2023-07-27T10:19:04.684250Z",
     "shell.execute_reply": "2023-07-27T10:19:04.682286Z"
    },
    "papermill": {
     "duration": 0.02045,
     "end_time": "2023-07-27T10:19:04.687438",
     "exception": false,
     "start_time": "2023-07-27T10:19:04.666988",
     "status": "completed"
    },
    "tags": []
   },
   "outputs": [
    {
     "data": {
      "text/plain": [
       "\"Docstring simple d'une ligne se finissant par un point.\""
      ]
     },
     "execution_count": 3,
     "metadata": {},
     "output_type": "execute_result"
    }
   ],
   "source": [
    "\"\"\"Docstring simple d'une ligne se finissant par un point.\"\"\""
   ]
  },
  {
   "cell_type": "markdown",
   "id": "7bcb6878",
   "metadata": {
    "papermill": {
     "duration": 0.003383,
     "end_time": "2023-07-27T10:19:04.695087",
     "exception": false,
     "start_time": "2023-07-27T10:19:04.691704",
     "status": "completed"
    },
    "tags": []
   },
   "source": [
    "* When you need to provide more detail on more complex topics, you should use multi-line docstrings."
   ]
  },
  {
   "cell_type": "code",
   "execution_count": 4,
   "id": "9cfd02ca",
   "metadata": {
    "execution": {
     "iopub.execute_input": "2023-07-27T10:19:04.704283Z",
     "iopub.status.busy": "2023-07-27T10:19:04.703905Z",
     "iopub.status.idle": "2023-07-27T10:19:04.711854Z",
     "shell.execute_reply": "2023-07-27T10:19:04.709883Z"
    },
    "papermill": {
     "duration": 0.015288,
     "end_time": "2023-07-27T10:19:04.714080",
     "exception": false,
     "start_time": "2023-07-27T10:19:04.698792",
     "status": "completed"
    },
    "tags": []
   },
   "outputs": [
    {
     "data": {
      "text/plain": [
       "'Docstring of many lines, the first is a sum up\\n\\nAfter jumping one line, we describe all details about the function.\\nblablabla\\nblablabla\\nblablabla\\n'"
      ]
     },
     "execution_count": 4,
     "metadata": {},
     "output_type": "execute_result"
    }
   ],
   "source": [
    "\"\"\"Docstring of many lines, the first is a sum up\n",
    "\n",
    "After jumping one line, we describe all details about the function.\n",
    "blablabla\n",
    "blablabla\n",
    "blablabla\n",
    "\"\"\"\n"
   ]
  },
  {
   "cell_type": "markdown",
   "id": "4c9b8b4d",
   "metadata": {
    "papermill": {
     "duration": 0.003706,
     "end_time": "2023-07-27T10:19:04.722006",
     "exception": false,
     "start_time": "2023-07-27T10:19:04.718300",
     "status": "completed"
    },
    "tags": []
   },
   "source": [
    "However, [PEP 257](https://peps.python.org/pep-0257/) does not explicitly say what the Docstrings must contain. Human nature abhors a vacuum, several proposals have emerged. Here they are.\n",
    "\n",
    "### The Google solution with the Google Style Python Docstrings.\n",
    "\n",
    "\n",
    "[Google Style Python Docstrings](https://sphinxcontrib-napoleon.readthedocs.io/en/latest/example_google.html)"
   ]
  },
  {
   "cell_type": "code",
   "execution_count": 5,
   "id": "23a9ecd3",
   "metadata": {
    "_cell_guid": "b1076dfc-b9ad-4769-8c92-a6c4dae69d19",
    "_uuid": "8f2839f25d086af736a60e9eeb907d3b93b6e0e5",
    "execution": {
     "iopub.execute_input": "2023-07-27T10:19:04.732092Z",
     "iopub.status.busy": "2023-07-27T10:19:04.731555Z",
     "iopub.status.idle": "2023-07-27T10:19:04.738559Z",
     "shell.execute_reply": "2023-07-27T10:19:04.736476Z"
    },
    "papermill": {
     "duration": 0.015887,
     "end_time": "2023-07-27T10:19:04.741761",
     "exception": false,
     "start_time": "2023-07-27T10:19:04.725874",
     "status": "completed"
    },
    "tags": []
   },
   "outputs": [],
   "source": [
    "def docstrigs_ex_func(param1, param2):\n",
    "    \"\"\"Example function with types documented in the docstring.\n",
    "    \n",
    "    `PEP 484`_ type annotations are supported. If attribute,\n",
    "    parameter, and return types are annotated according to \n",
    "    `PEP 484`_, they do not need to be included in the docstring:\n",
    "\n",
    "    Args:\n",
    "        param1 (int): The first parameter.\n",
    "        param2 (str): The second parameter.\n",
    "\n",
    "    Returns:\n",
    "        bool: The return value. True for success, False otherwise.\n",
    "\n",
    "    .. _PEP 484:\n",
    "        https://www.python.org/dev/peps/pep-0484/\n",
    "\n",
    "    \"\"\""
   ]
  },
  {
   "cell_type": "markdown",
   "id": "ab11738c",
   "metadata": {
    "papermill": {
     "duration": 0.003838,
     "end_time": "2023-07-27T10:19:04.750151",
     "exception": false,
     "start_time": "2023-07-27T10:19:04.746313",
     "status": "completed"
    },
    "tags": []
   },
   "source": [
    "### The NumPy solution with the NumPy Style Python Docstrings.\n",
    "\n",
    "[NumPy Style Python Docstrings](https://numpydoc.readthedocs.io/en/latest/format.html)"
   ]
  },
  {
   "cell_type": "code",
   "execution_count": 6,
   "id": "ad6dd929",
   "metadata": {
    "execution": {
     "iopub.execute_input": "2023-07-27T10:19:04.761827Z",
     "iopub.status.busy": "2023-07-27T10:19:04.761313Z",
     "iopub.status.idle": "2023-07-27T10:19:04.768197Z",
     "shell.execute_reply": "2023-07-27T10:19:04.766732Z"
    },
    "papermill": {
     "duration": 0.016057,
     "end_time": "2023-07-27T10:19:04.771691",
     "exception": false,
     "start_time": "2023-07-27T10:19:04.755634",
     "status": "completed"
    },
    "tags": []
   },
   "outputs": [],
   "source": [
    "def multiplier(num1, num2):\n",
    "    \"\"\"Multiply two integers.\n",
    "\n",
    "    This function is useless :p .\n",
    "\n",
    "    Parameters\n",
    "    ----------\n",
    "    num1: int\n",
    "        The first number.\n",
    "    num2: int\n",
    "        The second number.\n",
    "\n",
    "        Here we can put a longer descritpion.\n",
    "        On several lines.\n",
    "\n",
    "    Returns\n",
    "    -------\n",
    "    int\n",
    "        The result of the multiplication.\n",
    "    \"\"\"\n",
    "    return num1* num2"
   ]
  },
  {
   "cell_type": "markdown",
   "id": "07045f17",
   "metadata": {
    "papermill": {
     "duration": 0.003713,
     "end_time": "2023-07-27T10:19:04.779915",
     "exception": false,
     "start_time": "2023-07-27T10:19:04.776202",
     "status": "completed"
    },
    "tags": []
   },
   "source": [
    "### The Sphinx solution  with the Sphinx docstring format \n",
    "\n",
    "[Sphinx docstring format](https://sphinx-rtd-tutorial.readthedocs.io/en/latest/docstrings.html)\n"
   ]
  },
  {
   "cell_type": "code",
   "execution_count": 7,
   "id": "fabe2ea1",
   "metadata": {
    "execution": {
     "iopub.execute_input": "2023-07-27T10:19:04.789906Z",
     "iopub.status.busy": "2023-07-27T10:19:04.789463Z",
     "iopub.status.idle": "2023-07-27T10:19:04.796782Z",
     "shell.execute_reply": "2023-07-27T10:19:04.794649Z"
    },
    "papermill": {
     "duration": 0.016325,
     "end_time": "2023-07-27T10:19:04.800271",
     "exception": false,
     "start_time": "2023-07-27T10:19:04.783946",
     "status": "completed"
    },
    "tags": []
   },
   "outputs": [],
   "source": [
    "def multiplier(num1, num2):\n",
    "    \"\"\" Multiply two integers.\n",
    "\n",
    "    :param num1: number one to multiply\n",
    "    :type num1: int\n",
    "    :param num2: number one to multiply\n",
    "    :type num2: int\n",
    "    :return: The result of the multiplication\n",
    "    :rtype: int\n",
    "    \"\"\"\n",
    "    return num1* num2\n"
   ]
  },
  {
   "cell_type": "markdown",
   "id": "0bc7ced0",
   "metadata": {
    "papermill": {
     "duration": 0.003715,
     "end_time": "2023-07-27T10:19:04.808555",
     "exception": false,
     "start_time": "2023-07-27T10:19:04.804840",
     "status": "completed"
    },
    "tags": []
   },
   "source": [
    "Regardless of the choice of solution, we will systematically find:\n",
    "* A synthesis of the function or method\n",
    "* What the function or method does in detail\n",
    "* The input arguments and the type\n",
    "* What is returned\n",
    "\n",
    "The advantage of the Sphynx solution is that it is in RST format. RST is a markup convention for formatting text. It keeps the text readable, but allows you to generate HTML, PDF, and a bunch of other cleaner stuff.  The generation of your documentation will therefore be facilitated.\n",
    "Some Python libraries allow you to automatically generate documentation from docstrings. This is, for example, the case of the [pydoc](https://docs.python.org/3/library/pydoc.html) library which, from the Sphinx format, allows you to automatically create documentation.\n"
   ]
  },
  {
   "cell_type": "markdown",
   "id": "840145e4",
   "metadata": {
    "papermill": {
     "duration": 0.003515,
     "end_time": "2023-07-27T10:19:04.816107",
     "exception": false,
     "start_time": "2023-07-27T10:19:04.812592",
     "status": "completed"
    },
    "tags": []
   },
   "source": [
    "# Sources\n",
    "\n",
    "* Rossum Guido van, Warsaw Barry, Coghlan Nick, PEP 8 – Style Guide for Python Code, https://peps.python.org/pep-0008/,  published the 05/07/2001 (updated the 01/08/2013), consulted the 24/05/2023.\n",
    "* Goodger David, Rossum Guido van, PEP 257 – Docstring Conventions, https://peps.python.org/pep-0257/, published the 29/05/2001 (updated the 13/06/2001), consulted the 24/05/2023.\n",
    "* Fuchs Pierre, Poulain Pierre, 15.2 Les docstrings et la PEP 257, https://python.sdv.univ-paris-diderot.fr/15_bonnes_pratiques/#152-les-docstrings-et-la-pep-257, consulted the 24/05/2023.\n",
    "* pydoc — Documentation generator and online help system, https://docs.python.org/3/library/pydoc.html, consulted the 24/05/2023.\n",
    "* Docstrings in Python Tutorial, https://www.datacamp.com/tutorial/docstrings-python, updated in 2022, consulted the 24/05/2023.\n"
   ]
  },
  {
   "cell_type": "markdown",
   "id": "e02daa07",
   "metadata": {
    "papermill": {
     "duration": 0.003498,
     "end_time": "2023-07-27T10:19:04.823283",
     "exception": false,
     "start_time": "2023-07-27T10:19:04.819785",
     "status": "completed"
    },
    "tags": []
   },
   "source": [
    "# Authors\n",
    "\n",
    "* [Damien Mascheix](https://www.linkedin.com/in/damien-mascheix/) \n",
    "* [Clément Gautier-Baudhuit](https://www.linkedin.com/in/cl%C3%A9ment-gautier-baudhuit-762b6714a/)\n",
    "\n",
    "Reviewed and optimized (SEO) by [Adeline Chion](https://red-ac-seo.fr/)"
   ]
  }
 ],
 "metadata": {
  "kernelspec": {
   "display_name": "Python 3",
   "language": "python",
   "name": "python3"
  },
  "language_info": {
   "codemirror_mode": {
    "name": "ipython",
    "version": 3
   },
   "file_extension": ".py",
   "mimetype": "text/x-python",
   "name": "python",
   "nbconvert_exporter": "python",
   "pygments_lexer": "ipython3",
   "version": "3.10.12"
  },
  "papermill": {
   "default_parameters": {},
   "duration": 10.545555,
   "end_time": "2023-07-27T10:19:05.752086",
   "environment_variables": {},
   "exception": null,
   "input_path": "__notebook__.ipynb",
   "output_path": "__notebook__.ipynb",
   "parameters": {},
   "start_time": "2023-07-27T10:18:55.206531",
   "version": "2.4.0"
  }
 },
 "nbformat": 4,
 "nbformat_minor": 5
}
